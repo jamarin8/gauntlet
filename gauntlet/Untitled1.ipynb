{
 "cells": [
  {
   "cell_type": "code",
   "execution_count": 50,
   "metadata": {},
   "outputs": [
    {
     "name": "stdout",
     "output_type": "stream",
     "text": [
      "Collecting git+https://github.com/jamarin8/gauntlet.git\n",
      "  Cloning https://github.com/jamarin8/gauntlet.git to /tmp/pip-req-build-uxdtnho_\n",
      "  Running command git clone --filter=blob:none --quiet https://github.com/jamarin8/gauntlet.git /tmp/pip-req-build-uxdtnho_\n",
      "  Resolved https://github.com/jamarin8/gauntlet.git to commit 2cd964a4e09a46cf43d5659cfa96b820f523649f\n",
      "  Preparing metadata (setup.py) ... \u001b[?25ldone\n",
      "\u001b[?25hBuilding wheels for collected packages: gauntlet\n",
      "  Building wheel for gauntlet (setup.py) ... \u001b[?25ldone\n",
      "\u001b[?25h  Created wheel for gauntlet: filename=gauntlet-0.1-py3-none-any.whl size=15307 sha256=e4264f983954f135b8c09d723f0c2b757f48a4bdd49ba1b87ae32cbe9316b7bb\n",
      "  Stored in directory: /tmp/pip-ephem-wheel-cache-52hfski4/wheels/c8/92/bf/583b21a7e9531e375089b53406ff865b4349188caf3b29b612\n",
      "Successfully built gauntlet\n",
      "Installing collected packages: gauntlet\n",
      "Successfully installed gauntlet-0.1\n",
      "\u001b[33mWARNING: Running pip as the 'root' user can result in broken permissions and conflicting behaviour with the system package manager. It is recommended to use a virtual environment instead: https://pip.pypa.io/warnings/venv\u001b[0m\u001b[33m\n",
      "\u001b[0m"
     ]
    }
   ],
   "source": [
    "!pip install git+https://github.com/jamarin8/gauntlet.git"
   ]
  },
  {
   "cell_type": "code",
   "execution_count": 51,
   "metadata": {},
   "outputs": [],
   "source": [
    "import gauntlet"
   ]
  },
  {
   "cell_type": "code",
   "execution_count": 37,
   "metadata": {},
   "outputs": [
    {
     "data": {
      "text/plain": [
       "['Counter',\n",
       " 'Dict',\n",
       " 'HBOS',\n",
       " 'IForest',\n",
       " 'KNN',\n",
       " 'LOF',\n",
       " 'LSCP',\n",
       " 'List',\n",
       " 'PCA',\n",
       " '__builtins__',\n",
       " '__cached__',\n",
       " '__doc__',\n",
       " '__file__',\n",
       " '__loader__',\n",
       " '__name__',\n",
       " '__package__',\n",
       " '__spec__',\n",
       " 'create_metrics',\n",
       " 'defaultdict',\n",
       " 'error',\n",
       " 'np',\n",
       " 'output',\n",
       " 'params',\n",
       " 'pd',\n",
       " 'pickle',\n",
       " 'pipInstall',\n",
       " 'process',\n",
       " 'subprocess',\n",
       " 'warnings']"
      ]
     },
     "execution_count": 37,
     "metadata": {},
     "output_type": "execute_result"
    }
   ],
   "source": [
    "dir(gauntlet)"
   ]
  },
  {
   "cell_type": "code",
   "execution_count": 30,
   "metadata": {},
   "outputs": [
    {
     "name": "stdout",
     "output_type": "stream",
     "text": [
      "/root/gauntlet_folder_2\n"
     ]
    }
   ],
   "source": [
    "cd .."
   ]
  },
  {
   "cell_type": "code",
   "execution_count": 48,
   "metadata": {},
   "outputs": [
    {
     "name": "stdout",
     "output_type": "stream",
     "text": [
      "\u001b[0m\u001b[01;34mgauntlet\u001b[0m/  \u001b[01;34mgauntlet.egg-info\u001b[0m/  setup.py\n"
     ]
    }
   ],
   "source": [
    "ls"
   ]
  },
  {
   "cell_type": "code",
   "execution_count": 44,
   "metadata": {},
   "outputs": [],
   "source": [
    "from params import params"
   ]
  },
  {
   "cell_type": "code",
   "execution_count": 45,
   "metadata": {},
   "outputs": [
    {
     "data": {
      "text/plain": [
       "Params(user='product', objective='cost', avg_loan_size_non_fraud=5200, avg_loan_size_fraud=7155, avg_contribution_profit_percent=0.1, avg_conversion_loss_for=0.22, batch_window=90, fp_throttle=0.7, demo_mode=True, lift=False, clusters='2D', eda=False, output_1='chronological', output_2='captured_apps')"
      ]
     },
     "execution_count": 45,
     "metadata": {},
     "output_type": "execute_result"
    }
   ],
   "source": [
    "params"
   ]
  },
  {
   "cell_type": "code",
   "execution_count": 52,
   "metadata": {},
   "outputs": [
    {
     "name": "stdout",
     "output_type": "stream",
     "text": [
      "ENGAGING DATA INTAKE & PROCESSING MODULE...\n",
      "\t>> shape of merged intake dataframe (171613, 68)\n",
      "done with ca_created\n"
     ]
    },
    {
     "ename": "ImportError",
     "evalue": "cannot import name 'df2_stand_norm' from 'dataintake' (/root/gauntlet_folder_2/gauntlet/dataintake.py)",
     "output_type": "error",
     "traceback": [
      "\u001b[0;31m---------------------------------------------------------------------------\u001b[0m",
      "\u001b[0;31mImportError\u001b[0m                               Traceback (most recent call last)",
      "\u001b[0;32m<ipython-input-52-13c3bd2dc8a9>\u001b[0m in \u001b[0;36m<module>\u001b[0;34m\u001b[0m\n\u001b[0;32m----> 1\u001b[0;31m \u001b[0;32mimport\u001b[0m \u001b[0mmain_module\u001b[0m\u001b[0;34m\u001b[0m\u001b[0;34m\u001b[0m\u001b[0m\n\u001b[0m",
      "\u001b[0;32m~/gauntlet_folder_2/gauntlet/main_module.py\u001b[0m in \u001b[0;36m<module>\u001b[0;34m\u001b[0m\n\u001b[1;32m     24\u001b[0m \u001b[0;34m\u001b[0m\u001b[0m\n\u001b[1;32m     25\u001b[0m \u001b[0;32mfrom\u001b[0m \u001b[0mdataintake\u001b[0m \u001b[0;32mimport\u001b[0m \u001b[0mfraud_column\u001b[0m\u001b[0;34m,\u001b[0m \u001b[0mfm_5\u001b[0m\u001b[0;34m\u001b[0m\u001b[0;34m\u001b[0m\u001b[0m\n\u001b[0;32m---> 26\u001b[0;31m \u001b[0;32mfrom\u001b[0m \u001b[0mdataintake\u001b[0m \u001b[0;32mimport\u001b[0m \u001b[0mdf2_stand_norm\u001b[0m\u001b[0;34m,\u001b[0m \u001b[0many_fraud_mean\u001b[0m\u001b[0;34m\u001b[0m\u001b[0;34m\u001b[0m\u001b[0m\n\u001b[0m\u001b[1;32m     27\u001b[0m \u001b[0;34m\u001b[0m\u001b[0m\n\u001b[1;32m     28\u001b[0m \u001b[0mprint\u001b[0m \u001b[0;34m(\u001b[0m\u001b[0;34m'\\t>> time segments:'\u001b[0m\u001b[0;34m)\u001b[0m\u001b[0;34m\u001b[0m\u001b[0;34m\u001b[0m\u001b[0m\n",
      "\u001b[0;31mImportError\u001b[0m: cannot import name 'df2_stand_norm' from 'dataintake' (/root/gauntlet_folder_2/gauntlet/dataintake.py)"
     ]
    }
   ],
   "source": [
    "import main_module"
   ]
  },
  {
   "cell_type": "code",
   "execution_count": 46,
   "metadata": {},
   "outputs": [
    {
     "name": "stdout",
     "output_type": "stream",
     "text": [
      "\u001b[0m\u001b[01;34mgauntlet\u001b[0m/  \u001b[01;34mgauntlet.egg-info\u001b[0m/  setup.py\n"
     ]
    }
   ],
   "source": [
    "ls"
   ]
  },
  {
   "cell_type": "code",
   "execution_count": 49,
   "metadata": {},
   "outputs": [
    {
     "name": "stdout",
     "output_type": "stream",
     "text": [
      "Found existing installation: gauntlet 0.1\n",
      "Uninstalling gauntlet-0.1:\n",
      "  Successfully uninstalled gauntlet-0.1\n",
      "\u001b[33mWARNING: Running pip as the 'root' user can result in broken permissions and conflicting behaviour with the system package manager. It is recommended to use a virtual environment instead: https://pip.pypa.io/warnings/venv\u001b[0m\u001b[33m\n",
      "\u001b[0m"
     ]
    }
   ],
   "source": [
    "!pip uninstall gauntlet -y"
   ]
  },
  {
   "cell_type": "code",
   "execution_count": null,
   "metadata": {},
   "outputs": [],
   "source": []
  }
 ],
 "metadata": {
  "instance_type": "ml.t3.medium",
  "kernelspec": {
   "display_name": "Python 3 (Data Science)",
   "language": "python",
   "name": "python3__SAGEMAKER_INTERNAL__arn:aws:sagemaker:us-east-2:429704687514:image/datascience-1.0"
  },
  "language_info": {
   "codemirror_mode": {
    "name": "ipython",
    "version": 3
   },
   "file_extension": ".py",
   "mimetype": "text/x-python",
   "name": "python",
   "nbconvert_exporter": "python",
   "pygments_lexer": "ipython3",
   "version": "3.7.10"
  }
 },
 "nbformat": 4,
 "nbformat_minor": 4
}
